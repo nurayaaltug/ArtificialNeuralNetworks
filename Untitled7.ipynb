{
  "nbformat": 4,
  "nbformat_minor": 0,
  "metadata": {
    "colab": {
      "provenance": [],
      "authorship_tag": "ABX9TyOwE+1kYvq4vjMkoOq9GezQ",
      "include_colab_link": true
    },
    "kernelspec": {
      "name": "python3",
      "display_name": "Python 3"
    },
    "language_info": {
      "name": "python"
    }
  },
  "cells": [
    {
      "cell_type": "markdown",
      "metadata": {
        "id": "view-in-github",
        "colab_type": "text"
      },
      "source": [
        "<a href=\"https://colab.research.google.com/github/nurayaaltug/ArtificialNeuralNetworksFeedForward/blob/main/Untitled7.ipynb\" target=\"_parent\"><img src=\"https://colab.research.google.com/assets/colab-badge.svg\" alt=\"Open In Colab\"/></a>"
      ]
    },
    {
      "cell_type": "code",
      "execution_count": 6,
      "metadata": {
        "colab": {
          "base_uri": "https://localhost:8080/"
        },
        "id": "8uWlHS7pIoJz",
        "outputId": "59cd2e05-485d-42af-c115-3cbd92ccb1a1"
      },
      "outputs": [
        {
          "output_type": "stream",
          "name": "stdout",
          "text": [
            "tensor([[0.4892],\n",
            "        [0.5566]], grad_fn=<MulBackward0>)\n"
          ]
        }
      ],
      "source": [
        "import torch\n",
        "\n",
        "\n",
        "torch.manual_seed(1)\n",
        "X = torch.tensor([[1, 2, 3], [4, 5, 6]], dtype=torch.float)\n",
        "\n",
        "class Net(torch.nn.Module):\n",
        "    def __init__(self):\n",
        "        super(Net, self).__init__()\n",
        "        self.hidden = torch.nn.Linear(3, 50)\n",
        "        self.output = torch.nn.Linear(50, 1)\n",
        "        \n",
        "    def tanh(self, x):\n",
        "        return (torch.exp(x) - torch.exp(-x)) / (torch.exp(x) + torch.exp(-x))\n",
        "    \n",
        "    def sigmoid(self, x):\n",
        "        return 1 / (1 + torch.exp(-x))\n",
        "        \n",
        "    def forward(self, x):\n",
        "        x = self.hidden(x)\n",
        "        x = self.tanh(x)\n",
        "        x = self.output(x)\n",
        "        x = self.sigmoid(x)\n",
        "        return x\n",
        "\n",
        "\n",
        "output_tensor = neural_Network(X)\n",
        "\n",
        "print(output_tensor)"
      ]
    },
    {
      "cell_type": "code",
      "source": [],
      "metadata": {
        "id": "hMWDxF4LJYYZ"
      },
      "execution_count": null,
      "outputs": []
    }
  ]
}