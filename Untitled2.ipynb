{
  "nbformat": 4,
  "nbformat_minor": 0,
  "metadata": {
    "colab": {
      "provenance": [],
      "authorship_tag": "ABX9TyPjVb3YZu1duJfF2+DK8byg",
      "include_colab_link": true
    },
    "kernelspec": {
      "name": "python3",
      "display_name": "Python 3"
    },
    "language_info": {
      "name": "python"
    }
  },
  "cells": [
    {
      "cell_type": "markdown",
      "metadata": {
        "id": "view-in-github",
        "colab_type": "text"
      },
      "source": [
        "<a href=\"https://colab.research.google.com/github/nurayaaltug/ArtificialNeuralNetworks/blob/main/Untitled2.ipynb\" target=\"_parent\"><img src=\"https://colab.research.google.com/assets/colab-badge.svg\" alt=\"Open In Colab\"/></a>"
      ]
    },
    {
      "cell_type": "code",
      "execution_count": 4,
      "metadata": {
        "colab": {
          "base_uri": "https://localhost:8080/"
        },
        "id": "2SiUokYXD0rh",
        "outputId": "b2d27ad3-1e29-45fa-d71f-02cb50b1161d"
      },
      "outputs": [
        {
          "output_type": "stream",
          "name": "stdout",
          "text": [
            "tensor([[0.9997],\n",
            "        [0.9976]])\n"
          ]
        }
      ],
      "source": [
        "import torch\n",
        "import math\n",
        "\n",
        "torch.manual_seed(1)\n",
        "\n",
        "X = torch.tensor([[1, 2, 3], [4, 5, 6]], dtype=torch.float)\n",
        "\n",
        "hidden_weights = torch.randn((3, 50), dtype=torch.float)\n",
        "hidden_bias = torch.zeros((1, 50), dtype=torch.float)\n",
        "\n",
        "output_weights = torch.randn((50, 1), dtype=torch.float)\n",
        "output_bias = torch.zeros((1, 1), dtype=torch.float)\n",
        "\n",
        "def tanh(x):\n",
        "    return torch.tanh(x)\n",
        "\n",
        "def sigmoid(x):\n",
        "    return 1 / (1 + torch.exp(-x))\n",
        "\n",
        "hidden_layer_input = torch.matmul(X, hidden_weights) + hidden_bias\n",
        "hidden_layer_output = tanh(hidden_layer_input)\n",
        "\n",
        "output_layer_input = torch.matmul(hidden_layer_output, output_weights) + output_bias\n",
        "output = sigmoid(output_layer_input)\n",
        "\n",
        "print(output)\n"
      ]
    }
  ]
}